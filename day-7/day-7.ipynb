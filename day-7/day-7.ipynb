{
 "cells": [
  {
   "cell_type": "code",
   "execution_count": 63,
   "id": "ebbfbe87-df00-4a18-a741-c0679cf2e824",
   "metadata": {},
   "outputs": [],
   "source": [
    "f = open(\"input\")\n",
    "crabs = list(map(int, f.read().strip().split(\",\")))"
   ]
  },
  {
   "cell_type": "code",
   "execution_count": 64,
   "id": "173b4101-c8a0-4273-959d-28015d4cadcb",
   "metadata": {},
   "outputs": [],
   "source": [
    "left = min(crabs)\n",
    "right = max(crabs)"
   ]
  },
  {
   "cell_type": "code",
   "execution_count": 65,
   "id": "7c43dc4c-0b4f-47d5-873a-3d9c6ca1d0f6",
   "metadata": {},
   "outputs": [],
   "source": [
    "# Just set the min fuel to an obscenely high number to start\n",
    "min_fuel = 9999999999\n",
    "horizontal = -1\n",
    "for h in range(left, right):\n",
    "    # Try every left and right position\n",
    "    total_fuel = 0\n",
    "    for crab in crabs:\n",
    "        # Find the left and right distance for every crab\n",
    "        total_fuel += abs(crab - h)\n",
    "    \n",
    "    # Is this position the lowest amount of fuel so far?\n",
    "    if total_fuel < min_fuel:\n",
    "        min_fuel = total_fuel\n",
    "        horizontal = h"
   ]
  },
  {
   "cell_type": "code",
   "execution_count": 66,
   "id": "c60ed8a2-ebe0-4ea7-ac3d-1e6794f9f267",
   "metadata": {},
   "outputs": [
    {
     "data": {
      "text/plain": [
       "323647"
      ]
     },
     "execution_count": 66,
     "metadata": {},
     "output_type": "execute_result"
    }
   ],
   "source": [
    "# Get the answer for question 1\n",
    "min_fuel"
   ]
  },
  {
   "cell_type": "code",
   "execution_count": 67,
   "id": "23becf68-bc16-4313-9a14-d972c98bfaf6",
   "metadata": {},
   "outputs": [],
   "source": [
    "# Same as last time but this time with a summation formula for calculating fuel used\n",
    "min_fuel = 9999999999\n",
    "horizontal = -1\n",
    "for h in range(left, right):\n",
    "    total_fuel = 0\n",
    "    for crab in crabs:\n",
    "        movement = abs(crab - h)\n",
    "        \n",
    "        # Summation for for i from 1 to n\n",
    "        total_fuel += (movement * (movement + 1)) // 2\n",
    "    \n",
    "    if total_fuel < min_fuel:\n",
    "        min_fuel = total_fuel\n",
    "        horizontal = h"
   ]
  },
  {
   "cell_type": "code",
   "execution_count": 62,
   "id": "b6a013e2-0071-418d-9a33-3d541a38df1f",
   "metadata": {},
   "outputs": [
    {
     "data": {
      "text/plain": [
       "87640209"
      ]
     },
     "execution_count": 62,
     "metadata": {},
     "output_type": "execute_result"
    }
   ],
   "source": [
    "# Get the answer for question 2\n",
    "min_fuel"
   ]
  },
  {
   "cell_type": "code",
   "execution_count": null,
   "id": "6aa740b6-3e62-4de6-b699-153175da0928",
   "metadata": {},
   "outputs": [],
   "source": []
  }
 ],
 "metadata": {
  "kernelspec": {
   "display_name": "Python 3 (ipykernel)",
   "language": "python",
   "name": "python3"
  },
  "language_info": {
   "codemirror_mode": {
    "name": "ipython",
    "version": 3
   },
   "file_extension": ".py",
   "mimetype": "text/x-python",
   "name": "python",
   "nbconvert_exporter": "python",
   "pygments_lexer": "ipython3",
   "version": "3.8.10"
  }
 },
 "nbformat": 4,
 "nbformat_minor": 5
}
