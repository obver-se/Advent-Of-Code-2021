{
 "cells": [
  {
   "cell_type": "code",
   "execution_count": 1,
   "id": "ccbe9df2-d345-4d08-b5af-e211c92539e0",
   "metadata": {
    "tags": []
   },
   "outputs": [],
   "source": [
    "f = open(\"input\")\n",
    "# Make a list of to/from edges as tuples\n",
    "paths = [path.strip().split(\"-\") for path in f]"
   ]
  },
  {
   "cell_type": "code",
   "execution_count": 2,
   "id": "dcf7cdd6-f3b7-4e95-9f99-ee1b5903626e",
   "metadata": {},
   "outputs": [],
   "source": [
    "def from_node(node_name):\n",
    "    \"\"\"Get a list of nodes that could be traveled from node_name\"\"\"\n",
    "    from_node_paths = [path for path in paths if path[0] == node_name or path[1] == node_name]\n",
    "    return from_node_paths\n",
    "    "
   ]
  },
  {
   "cell_type": "code",
   "execution_count": 7,
   "id": "d8f07bd3-af03-4d9b-bed6-aeb7ca10e5d6",
   "metadata": {},
   "outputs": [],
   "source": [
    "def move_to_end_1(current_node, visited):\n",
    "    \"\"\"From the current node, not traveling through any of the nodes in visted, return how many paths are there to 'end'?\"\"\"\n",
    "    if current_node == \"end\":\n",
    "        # Base case, 1 path to end\n",
    "        return 1\n",
    "    \n",
    "    # If the current node is a lower case named node then we can only visit it once.\n",
    "    # keep track of it\n",
    "    if current_node.islower():\n",
    "        # Make a copy so we don't mess up the recursion\n",
    "        visited = visited[:]\n",
    "        visited.append(current_node)\n",
    "    \n",
    "    # The number of additial paths starting from current_node and not going to\n",
    "    # any of the nodes in visited\n",
    "    path_count = 0\n",
    "\n",
    "    for path in from_node(current_node):\n",
    "        # Get the other piece of the path that isn't the node we are \"starting from\"\n",
    "        non_start = path[0] if path[1] == current_node else path[1]\n",
    "        # If we can pass through it\n",
    "        if non_start not in visited:\n",
    "            # Add the number of paths from that node\n",
    "            path_count += move_to_end_1(non_start, visited)\n",
    "    \n",
    "    # Return the total path count\n",
    "    return path_count\n",
    "    "
   ]
  },
  {
   "cell_type": "code",
   "execution_count": 8,
   "id": "9c212f7e-33c2-402d-a551-037f9daae510",
   "metadata": {},
   "outputs": [
    {
     "data": {
      "text/plain": [
       "5254"
      ]
     },
     "execution_count": 8,
     "metadata": {},
     "output_type": "execute_result"
    }
   ],
   "source": [
    "# Get the number of paths for answer 1\n",
    "move_to_end_1('start', [])"
   ]
  },
  {
   "cell_type": "code",
   "execution_count": 17,
   "id": "fd5eec7c-733c-45a1-ae1b-398297815bc9",
   "metadata": {},
   "outputs": [],
   "source": [
    "# Instead of using an array as above, keep track of the number \n",
    "# of times that a node has been traveled to in a dictionary \"visited\".\n",
    "def move_to_end_2(current_node, visited):\n",
    "    if current_node == \"end\":\n",
    "        return 1\n",
    "    \n",
    "    if current_node.islower():\n",
    "        # Make a copy of the dictionary\n",
    "        visited = dict(visited)\n",
    "        # Add to the count if it has been visited before\n",
    "        if current_node in visited:\n",
    "            visited[current_node] += 1\n",
    "        else:\n",
    "            # Set it to one if it hasn't been visited before\n",
    "            visited[current_node] = 1\n",
    "\n",
    "    path_count = 0\n",
    "    for path in from_node(current_node):\n",
    "        non_start = path[0] if path[1] == current_node else path[1]\n",
    "        \n",
    "        # If we haven't visited a node twice before then allow it. Also, don't allow the start node to be returned to\n",
    "        if (non_start not in visited) or all([(visit < 2 or visit == 100) for visit in visited.values()]) and non_start != \"start\":\n",
    "            path_count += move_to_end_2(non_start, visited)\n",
    "        \n",
    "    return path_count\n",
    "    "
   ]
  },
  {
   "cell_type": "code",
   "execution_count": 18,
   "id": "94832439-53ac-4054-ac4c-701d5e9aa257",
   "metadata": {},
   "outputs": [
    {
     "data": {
      "text/plain": [
       "149385"
      ]
     },
     "execution_count": 18,
     "metadata": {},
     "output_type": "execute_result"
    }
   ],
   "source": [
    "# Get the number of paths for answer 2\n",
    "move_to_end_2('start', {})"
   ]
  },
  {
   "cell_type": "code",
   "execution_count": null,
   "id": "5370a7d6-9c70-4393-8808-96eb754d0efd",
   "metadata": {},
   "outputs": [],
   "source": []
  }
 ],
 "metadata": {
  "kernelspec": {
   "display_name": "Python 3 (ipykernel)",
   "language": "python",
   "name": "python3"
  },
  "language_info": {
   "codemirror_mode": {
    "name": "ipython",
    "version": 3
   },
   "file_extension": ".py",
   "mimetype": "text/x-python",
   "name": "python",
   "nbconvert_exporter": "python",
   "pygments_lexer": "ipython3",
   "version": "3.8.10"
  }
 },
 "nbformat": 4,
 "nbformat_minor": 5
}
