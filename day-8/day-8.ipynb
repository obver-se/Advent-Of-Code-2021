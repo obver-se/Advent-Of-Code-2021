{
 "cells": [
  {
   "cell_type": "code",
   "execution_count": 1,
   "id": "058cd83b-9768-43ca-8c9a-3ab44244bd53",
   "metadata": {},
   "outputs": [],
   "source": [
    "f = open(\"input\")\n",
    "pairs = [line.split(\"|\") for line in f]\n",
    "numbers = [(pair[0].split(), pair[1].split()) for pair in pairs]"
   ]
  },
  {
   "cell_type": "code",
   "execution_count": 2,
   "id": "7edf0a6b-3701-4a3a-ac6f-0a74183a6acc",
   "metadata": {
    "tags": []
   },
   "outputs": [],
   "source": [
    "# count the number of digits that are of a certain length (7 4 2 or 3)\n",
    "count = 0\n",
    "for pair in numbers:\n",
    "    for first in pair[1]:\n",
    "        #print(first)\n",
    "        if len(first) in (7, 4, 2, 3):\n",
    "            count += 1"
   ]
  },
  {
   "cell_type": "code",
   "execution_count": 3,
   "id": "908b6109-2cd2-4df1-97cf-f2f8604376a3",
   "metadata": {},
   "outputs": [
    {
     "data": {
      "text/plain": [
       "548"
      ]
     },
     "execution_count": 3,
     "metadata": {},
     "output_type": "execute_result"
    }
   ],
   "source": [
    "# The answer to question 1\n",
    "count"
   ]
  },
  {
   "cell_type": "code",
   "execution_count": 4,
   "id": "fc3250ce-bb5b-4378-8707-39a6ea63cc6d",
   "metadata": {},
   "outputs": [],
   "source": [
    "\n",
    "#numbers_to_lines = {\n",
    "#    1: set(\"cf\"),\n",
    "#    4: set(\"bcdf\"),\n",
    "#    7: set(\"acf\"),\n",
    "#    8: set(\"abcdefg\")\n",
    "#}"
   ]
  },
  {
   "cell_type": "code",
   "execution_count": 5,
   "id": "55508589-c2c3-44a3-9fe3-e57db95b4c22",
   "metadata": {},
   "outputs": [],
   "source": [
    "def decode_from_map(string, decode):\n",
    "    sets_to_number = {\n",
    "        \"abcefg\" : 0,\n",
    "        \"cf\" : 1,\n",
    "        \"acdeg\": 2,\n",
    "        \"acdfg\" : 3,\n",
    "        \"bcdf\": 4,\n",
    "        \"abdfg\": 5,\n",
    "        \"abdefg\": 6,\n",
    "        \"acf\": 7,\n",
    "        \"abcdefg\":8,\n",
    "        \"abcdfg\": 9,\n",
    "    }\n",
    "    \n",
    "    decoded_set = \"\"\n",
    "    for character in string:\n",
    "        decoded_set += decode[character]\n",
    "    \n",
    "    return sets_to_number[\"\".join(sorted(decoded_set))]"
   ]
  },
  {
   "cell_type": "code",
   "execution_count": 14,
   "id": "281080d6-7a0f-48b7-bd6a-f8ee0928734c",
   "metadata": {},
   "outputs": [],
   "source": [
    "valid_configs = {\n",
    "    0: set(\"abcefg\"),\n",
    "    1: set(\"cf\"),\n",
    "    2: set(\"acdeg\"),\n",
    "    3: set(\"acdfg\"),\n",
    "    4: set(\"bcdf\"),\n",
    "    5: set(\"abdfg\"),\n",
    "    6: set(\"abdefg\"),\n",
    "    7: set(\"acf\"),\n",
    "    8: set(\"abcdefg\"),\n",
    "    9: set(\"abcdfg\"),\n",
    "}\n",
    "\n",
    "def decode_single(pair):\n",
    "    one = [number for number in pair[0] + pair[1] if len(number) == 2]\n",
    "    four = [number for number in pair[0] + pair[1] if len(number) == 4]\n",
    "    seven = [number for number in pair[0] + pair[1] if len(number) == 3]\n",
    "    eight = [number for number in pair[0] + pair[1] if len(number) == 7]\n",
    "    \n",
    "    build_mapping = {}\n",
    "    \n",
    "    # Get the possible letters and set them up in the map like\n",
    "    # one would go to `cf` but the input is `ab` therefore c->\"ab\" and f->\"ab\"\n",
    "    if one:\n",
    "        for letter in set(one[0]):\n",
    "            if letter in build_mapping:\n",
    "                build_mapping[letter] &= valid_configs[1]\n",
    "            else :\n",
    "                build_mapping[letter] = valid_configs[1]\n",
    "            \n",
    "    if four:\n",
    "        for letter in set(four[0]):\n",
    "            if letter in build_mapping:\n",
    "                build_mapping[letter] &= valid_configs[4]\n",
    "            else :\n",
    "                build_mapping[letter] = valid_configs[4]\n",
    "    \n",
    "    if seven:\n",
    "        for letter in set(seven[0]):\n",
    "            if letter in build_mapping:\n",
    "                build_mapping[letter] &= valid_configs[7]\n",
    "            else :\n",
    "                build_mapping[letter] = valid_configs[7]\n",
    "    \n",
    "    if eight:\n",
    "        for letter in set(eight[0]):\n",
    "            if letter in build_mapping:\n",
    "                build_mapping[letter] &= valid_configs[8]\n",
    "            else :\n",
    "                build_mapping[letter] = valid_configs[8]\n",
    "    \n",
    "    # Use brute force to determine which set of letter to letter mappings are valid\n",
    "    # Use the known numbers to restrict the domain of each mapping\n",
    "    input_pair = pair[0] + pair[1]\n",
    "    letter_possibilities = build_mapping\n",
    "    for a in letter_possibilities[\"a\"]:\n",
    "        for b in letter_possibilities[\"b\"]:\n",
    "            for c in letter_possibilities[\"c\"]:\n",
    "                for d in letter_possibilities[\"d\"]:\n",
    "                    for e in letter_possibilities[\"e\"]:\n",
    "                        for f in letter_possibilities[\"f\"]:\n",
    "                            for g in letter_possibilities[\"g\"]:\n",
    "                                new_mapping = {\n",
    "                                    'a': a,\n",
    "                                    'b': b,\n",
    "                                    'c': c,\n",
    "                                    'd': d,\n",
    "                                    'e': e,\n",
    "                                    'f': f,\n",
    "                                    'g': g,\n",
    "                                }\n",
    "                                # The mapping starts as valid\n",
    "                                invalid = False\n",
    "                                for pair in input_pair:\n",
    "                                    new_constructed_letter = \"\"\n",
    "                                    for letter in pair:\n",
    "                                        new_constructed_letter += new_mapping[letter]\n",
    "                                        \n",
    "                                    for valid in valid_configs.values():\n",
    "                                        if (len(set(new_constructed_letter)) == len(new_constructed_letter)\n",
    "                                           and len(set(new_constructed_letter) & valid) == len(valid)):\n",
    "                                            # We found a mapping for this number\n",
    "                                            break\n",
    "                                    else:\n",
    "                                        # If a number, when mapped, doesn't have a valid output number,\n",
    "                                        # then it can't be that mapping\n",
    "                                        invalid = True\n",
    "                                \n",
    "                                if not invalid:\n",
    "                                    # If the mapping works then return it\n",
    "                                    return new_mapping\n"
   ]
  },
  {
   "cell_type": "code",
   "execution_count": 15,
   "id": "66f78a5e-0726-4706-b5e9-73939007bf6f",
   "metadata": {},
   "outputs": [],
   "source": [
    "# Take a line and decode the numbers after the pipe character\n",
    "def decoder_line(line):\n",
    "    # Get the letter to letter map\n",
    "    decoder_map = decode_single(line)\n",
    "    number_string = \"\"\n",
    "\n",
    "    # Use the map to decode the last few digits\n",
    "    for number in line[1]:\n",
    "        number_string += str(decode_from_map(number, decoder_map))\n",
    "        \n",
    "    # Turn the last few digits into numbers and return\n",
    "    return int(number_string)"
   ]
  },
  {
   "cell_type": "code",
   "execution_count": 17,
   "id": "ddc390da-907a-4aa8-bac3-99ad1648c3c3",
   "metadata": {},
   "outputs": [
    {
     "name": "stdout",
     "output_type": "stream",
     "text": [
      "1074888\n"
     ]
    }
   ],
   "source": [
    "# Get the sum of the digits after the pipe character for the answer to question 2\n",
    "a = 0\n",
    "for line in numbers:\n",
    "    a += decoder_line(line)\n",
    "\n",
    "print(a)"
   ]
  }
 ],
 "metadata": {
  "kernelspec": {
   "display_name": "Python 3 (ipykernel)",
   "language": "python",
   "name": "python3"
  },
  "language_info": {
   "codemirror_mode": {
    "name": "ipython",
    "version": 3
   },
   "file_extension": ".py",
   "mimetype": "text/x-python",
   "name": "python",
   "nbconvert_exporter": "python",
   "pygments_lexer": "ipython3",
   "version": "3.8.10"
  }
 },
 "nbformat": 4,
 "nbformat_minor": 5
}
