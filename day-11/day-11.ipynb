{
 "cells": [
  {
   "cell_type": "code",
   "execution_count": 249,
   "id": "7de1aa60-21d1-4a25-86ac-b22794787e59",
   "metadata": {},
   "outputs": [],
   "source": [
    "f = open(\"input\")\n",
    "# Make a 2d array for the octos\n",
    "numbers = [[int(number) for number in line.strip()] for line in f]"
   ]
  },
  {
   "cell_type": "code",
   "execution_count": 244,
   "id": "330726be-7172-4306-b254-ec287fea4dab",
   "metadata": {},
   "outputs": [],
   "source": [
    "\n",
    "\n",
    "def step(numbers):\n",
    "    \"\"\"Go through a single step.\n",
    "    \n",
    "    This function modifies the numbers passed in\n",
    "    \"\"\"\n",
    "    \n",
    "    # Add one to each octo\n",
    "    for x in range(0, len(numbers)):\n",
    "        for y in range(0, len(numbers[0])):\n",
    "            numbers[x][y] += 1\n",
    "\n",
    "    # Count the number of flashes\n",
    "    flashes = 0\n",
    "    # This variable is for if there are still octos \n",
    "    # that might flash because of other flashes\n",
    "    working = True\n",
    "    while working:\n",
    "        # Start asssuming that this is the last loop until proven otherwise\n",
    "        working = False\n",
    "        \n",
    "        # For each individual octo\n",
    "        for x in range(0, len(numbers)):\n",
    "            for y in range(0, len(numbers[0])):\n",
    "                # If the octo is greater than 9 and hasn't flashed this step\n",
    "                if (numbers[x][y] > 9) and (numbers[x][y] < 999999):\n",
    "                    # If the octo would flash then set it to the sentinal value 999999\n",
    "                    # and increment all the adjacent octos\n",
    "                    numbers[x][y] = 999999\n",
    "                    flashes += 1\n",
    "                    \n",
    "                    \n",
    "                    # All the octos to the left\n",
    "                    if x > 0:\n",
    "                        numbers[x-1][y] += 1\n",
    "                        \n",
    "                    if y > 0 and x > 0:\n",
    "                        numbers[x-1][y-1] += 1\n",
    "                        \n",
    "                    if y < len(numbers[0]) - 1 and x > 0:\n",
    "                        numbers[x-1][y+1] += 1\n",
    "\n",
    "                    # All the octos to the right\n",
    "                    if x < len(numbers) - 1:\n",
    "                        numbers[x+1][y] += 1\n",
    "                        \n",
    "                    if y > 0 and x < len(numbers) - 1:\n",
    "                        numbers[x+1][y-1] += 1\n",
    "                    \n",
    "                    if y < len(numbers[0]) - 1 and x < len(numbers) - 1:\n",
    "                        numbers[x+1][y+1] += 1\n",
    "\n",
    "                    # The lower octo\n",
    "                    if y > 0:\n",
    "                        numbers[x][y-1] += 1\n",
    "\n",
    "                    # The upper octo\n",
    "                    if y < len(numbers[0]) - 1:\n",
    "                        numbers[x][y+1] += 1\n",
    "\n",
    "                    # Incrementing these octos could have caused another > 9 octo\n",
    "                    working = True\n",
    "\n",
    "    # All the squids greater than 9 should be set back down to zero\n",
    "    for x in range(0, len(numbers)):\n",
    "        for y in range(0, len(numbers[0])):\n",
    "            if numbers[x][y] > 9:\n",
    "                numbers[x][y] = 0\n",
    "        \n",
    "    return flashes\n"
   ]
  },
  {
   "cell_type": "code",
   "execution_count": 245,
   "id": "4b6c3f63-bfd4-4b7a-9957-9f8e92667034",
   "metadata": {},
   "outputs": [],
   "source": [
    "# Count the number of flashes\n",
    "flashes = 0\n",
    "for x in range(0, 100):\n",
    "    flashes += step(numbers)"
   ]
  },
  {
   "cell_type": "code",
   "execution_count": 246,
   "id": "09e154ca-419f-47ae-a6b5-ff23b425e5b9",
   "metadata": {},
   "outputs": [
    {
     "data": {
      "text/plain": [
       "1686"
      ]
     },
     "execution_count": 246,
     "metadata": {},
     "output_type": "execute_result"
    }
   ],
   "source": [
    "# Get answer 1\n",
    "flashes"
   ]
  },
  {
   "cell_type": "code",
   "execution_count": 254,
   "id": "78476418-1453-4396-96cd-6e6677099aa7",
   "metadata": {},
   "outputs": [],
   "source": [
    "# Reload the numbers to calculate answer 2\n",
    "f = open(\"input\")\n",
    "numbers = [[int(number) for number in line.strip()] for line in f]\n",
    "\n",
    "# Count the number of steps\n",
    "step_n = 0\n",
    "going = True\n",
    "while going:\n",
    "    going = False           \n",
    "    step_n += 1 \n",
    "    step(numbers)\n",
    "    \n",
    "    # Stop if all the octos are flashing at the same time\n",
    "    for x in range(0, len(numbers)):\n",
    "        for y in range(0, len(numbers[0])):\n",
    "            if numbers[x][y] != 0:\n",
    "                # Continue if any of the octos aren't flashing\n",
    "                going = True\n"
   ]
  },
  {
   "cell_type": "code",
   "execution_count": 255,
   "id": "44ce9dd8-3540-4f43-896c-817384ee6e92",
   "metadata": {},
   "outputs": [
    {
     "data": {
      "text/plain": [
       "360"
      ]
     },
     "execution_count": 255,
     "metadata": {},
     "output_type": "execute_result"
    }
   ],
   "source": [
    "# Get answer 2\n",
    "step_n"
   ]
  }
 ],
 "metadata": {
  "kernelspec": {
   "display_name": "Python 3 (ipykernel)",
   "language": "python",
   "name": "python3"
  },
  "language_info": {
   "codemirror_mode": {
    "name": "ipython",
    "version": 3
   },
   "file_extension": ".py",
   "mimetype": "text/x-python",
   "name": "python",
   "nbconvert_exporter": "python",
   "pygments_lexer": "ipython3",
   "version": "3.8.10"
  }
 },
 "nbformat": 4,
 "nbformat_minor": 5
}
