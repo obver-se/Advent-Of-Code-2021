{
 "cells": [
  {
   "cell_type": "code",
   "execution_count": 210,
   "id": "4edc758a-cefd-4524-8039-088b119b6f1f",
   "metadata": {},
   "outputs": [],
   "source": [
    "f = open(\"input\")\n",
    "# Get the moves from the first line\n",
    "moves = list(map(int, next(f).split(\",\")))\n",
    "next(f) # Get rid of the next line\n",
    "\n",
    "# Read the boards in\n",
    "boards = [board.split(\"\\n\") for board in f.read().split(\"\\n\\n\")]\n",
    "boards = [[list(map(int, line.split())) for line in board] for board in boards]"
   ]
  },
  {
   "cell_type": "code",
   "execution_count": 211,
   "id": "ecd711a3-05d8-492e-9dbf-b65e0db3f222",
   "metadata": {},
   "outputs": [],
   "source": [
    "# Check if a board is a winner given a set of numbers\n",
    "def check_board(board, numbers):\n",
    "    # Check for vertical rows\n",
    "    for x in range(0, 5):\n",
    "        total = 0\n",
    "        for y in range(0, 5):\n",
    "            if board[x][y] not in numbers:\n",
    "                # If the row isn't in the available numbers then this row can be ignored\n",
    "                break\n",
    "            else:\n",
    "                total += 1\n",
    "        # If there was five in a row then it was a completed row\n",
    "        if total == 5:\n",
    "            return True\n",
    "    \n",
    "    # Check for horizontal rows\n",
    "    for y in range(0, 5):\n",
    "        total = 0\n",
    "        for x in range(0, 5):\n",
    "            if board[x][y] not in numbers:\n",
    "                break\n",
    "            else:\n",
    "                total += 1\n",
    "\n",
    "        if total == 5:\n",
    "            return True\n",
    "    return False\n",
    "\n",
    "# Get the first board to win, its last move, and the index of the last move\n",
    "def get_winning_board(boards, moves):\n",
    "    for move_i in range(0, len(moves)):\n",
    "        moveset = moves[0:move_i]\n",
    "        for board in boards:\n",
    "            if check_board(board, moveset):\n",
    "                return board, moveset[-1], move_i\n",
    "\n",
    "winning_board, last_move, move_i = get_winning_board(boards, moves)\n"
   ]
  },
  {
   "cell_type": "code",
   "execution_count": 212,
   "id": "42b27e10-a955-4482-8e27-5b31c775c0a7",
   "metadata": {},
   "outputs": [
    {
     "data": {
      "text/plain": [
       "23177"
      ]
     },
     "execution_count": 212,
     "metadata": {},
     "output_type": "execute_result"
    }
   ],
   "source": [
    "# Calculate the sum of numbers on the board that aren't in the moves list\n",
    "def calculate_sum_of_non_called(board, moves):\n",
    "    sum_n = 0\n",
    "    for x in range(0, 5):\n",
    "        for y in range(0, 5):\n",
    "            if board[x][y] not in moves:\n",
    "                sum_n += board[x][y]\n",
    "                \n",
    "    return sum_n\n",
    "\n",
    "# Calculate the score for answer 1\n",
    "calculate_sum_of_non_called(winning_board, moves[0:move_i]) * last_move"
   ]
  },
  {
   "cell_type": "code",
   "execution_count": 213,
   "id": "85301469-20cf-4a08-b94f-1c42ec95fc87",
   "metadata": {},
   "outputs": [],
   "source": [
    "def get_last_winning_board(boards, moves):\n",
    "    # Keep track of boards that have already won\n",
    "    winning_boards = []\n",
    "    # Keep track of information for the last winning board\n",
    "    last_i = 0\n",
    "    last_move = 0\n",
    "    for move_i in range(0, len(moves)):\n",
    "        moveset = moves[0:move_i]\n",
    "\n",
    "        for board in boards:\n",
    "            # If the board has won and it hasn't won \n",
    "            # previously then add it to the list and\n",
    "            # consider it the latest for now.\n",
    "            if (check_board(board, moveset)) and (board not in winning_boards):\n",
    "                last_i = move_i\n",
    "                last_move = moveset[-1]\n",
    "                winning_boards.append(board)\n",
    "\n",
    "    # Get the last board to win and its variables\n",
    "    return winning_boards[-1], last_move, last_i"
   ]
  },
  {
   "cell_type": "code",
   "execution_count": 214,
   "id": "3fcd7efd-9b1b-4e97-933b-1eda745a9198",
   "metadata": {},
   "outputs": [],
   "source": [
    "# Get the variables for the last winning board\n",
    "winning_board, last_move, move_i = get_last_winning_board(boards, moves)"
   ]
  },
  {
   "cell_type": "code",
   "execution_count": 215,
   "id": "44cc5299-a728-41a3-ba71-c9bee99e19dd",
   "metadata": {},
   "outputs": [
    {
     "data": {
      "text/plain": [
       "6804"
      ]
     },
     "execution_count": 215,
     "metadata": {},
     "output_type": "execute_result"
    }
   ],
   "source": [
    "# Get the score for the last winning board like last time\n",
    "calculate_sum_of_non_called(winning_board, moves[0:move_i]) * last_move"
   ]
  },
  {
   "cell_type": "code",
   "execution_count": null,
   "id": "36da2319-64e8-426a-9ab1-74d74a5e280b",
   "metadata": {},
   "outputs": [],
   "source": []
  }
 ],
 "metadata": {
  "kernelspec": {
   "display_name": "Python 3 (ipykernel)",
   "language": "python",
   "name": "python3"
  },
  "language_info": {
   "codemirror_mode": {
    "name": "ipython",
    "version": 3
   },
   "file_extension": ".py",
   "mimetype": "text/x-python",
   "name": "python",
   "nbconvert_exporter": "python",
   "pygments_lexer": "ipython3",
   "version": "3.8.10"
  }
 },
 "nbformat": 4,
 "nbformat_minor": 5
}
