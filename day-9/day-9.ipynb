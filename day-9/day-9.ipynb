{
 "cells": [
  {
   "cell_type": "code",
   "execution_count": 109,
   "id": "ecab312c-f86f-46a3-8f15-4d391fff1736",
   "metadata": {},
   "outputs": [],
   "source": [
    "f = open(\"input\")\n",
    "# Make a 2d array for the cave floor\n",
    "numbers = [[int(number) for number in line.strip()] for line in f]"
   ]
  },
  {
   "cell_type": "code",
   "execution_count": 118,
   "id": "f23e443d-e212-4d51-8c48-701a13e2a850",
   "metadata": {
    "tags": []
   },
   "outputs": [],
   "source": [
    "# Get the sum of all the risk levels for each basin\n",
    "total = 0\n",
    "\n",
    "# For each individual point\n",
    "for x in range(0, len(numbers)):\n",
    "    for y in range(0, len(numbers[0])):\n",
    "        # if the basin isn't surrounded by \n",
    "        # lower values on all sides then skip it\n",
    "        value = numbers[x][y]\n",
    "        \n",
    "        if x > 0:\n",
    "            if(numbers[x-1][y] <= value):\n",
    "                continue\n",
    "        if x < len(numbers) - 1:\n",
    "            if(numbers[x+1][y] <= value):\n",
    "                continue\n",
    "                \n",
    "        if y > 0:\n",
    "            if(numbers[x][y-1] <= value):\n",
    "                continue\n",
    "\n",
    "        if y < len(numbers[0]) - 1:\n",
    "            if(numbers[x][y+1] <= value):\n",
    "                continue\n",
    "        \n",
    "        # If we're to this point that means it is a basin. Add its risk level\n",
    "        total += 1 + value"
   ]
  },
  {
   "cell_type": "code",
   "execution_count": 119,
   "id": "fa4e2f62-d42a-4edc-b04b-a959e902fcdd",
   "metadata": {},
   "outputs": [
    {
     "data": {
      "text/plain": [
       "532"
      ]
     },
     "execution_count": 119,
     "metadata": {},
     "output_type": "execute_result"
    }
   ],
   "source": [
    "# Answer 1\n",
    "total"
   ]
  },
  {
   "cell_type": "code",
   "execution_count": 112,
   "id": "8b444d59-29c4-4b98-9443-1b2e9e70dc82",
   "metadata": {},
   "outputs": [],
   "source": [
    "# Get a list of all basin x,y positions reusing the code above\n",
    "basins = []\n",
    "\n",
    "for x in range(0, len(numbers)):\n",
    "    for y in range(0, len(numbers[0])):\n",
    "        value = numbers[x][y]\n",
    "        if x > 0:\n",
    "            if(numbers[x-1][y] <= value):\n",
    "                continue\n",
    "        if x < len(numbers) - 1:\n",
    "            if(numbers[x+1][y] <= value):\n",
    "                continue\n",
    "                \n",
    "        if y > 0:\n",
    "            if(numbers[x][y-1] <= value):\n",
    "                continue\n",
    "\n",
    "        if y < len(numbers[0]) - 1:\n",
    "            if(numbers[x][y+1] <= value):\n",
    "                continue\n",
    "        \n",
    "        # This is a basin\n",
    "        basins.append((x,y))"
   ]
  },
  {
   "cell_type": "code",
   "execution_count": 113,
   "id": "f91b0cbb-0990-40bf-a4cd-4eb022bef850",
   "metadata": {},
   "outputs": [],
   "source": [
    "basin_sizes = []\n",
    "\n",
    "# A simple breadth first search implementation where an element isn't \n",
    "# searched if it isn't less than the element the is being started from\n",
    "# or is 9\n",
    "for basin in basins:\n",
    "    # Keep track of the points already visited for each individual basin\n",
    "    old_points = []\n",
    "    \n",
    "    # Start with the lowest point of the basin\n",
    "    current_points = [basin]\n",
    "    \n",
    "    # While there are still Vertices on the graph\n",
    "    while(current_points):\n",
    "        # pop a verticie off\n",
    "        current_x, current_y = current_points.pop()\n",
    "        \n",
    "        # If we've already seen it or it is nine then drop it\n",
    "        if numbers[current_x][current_y] == 9 or (current_x, current_y) in old_points:\n",
    "            continue\n",
    "            \n",
    "        # Add it to points already searched\n",
    "        old_points.append((current_x, current_y))\n",
    "\n",
    "        # Search around the point for points that meet the greater than critieria and add those to the Vertices list\n",
    "        if current_y > 0:\n",
    "            if(numbers[current_x][current_y-1] > numbers[current_x][current_y]):\n",
    "                current_points.append((current_x, current_y-1))\n",
    "\n",
    "        if current_y < len(numbers[0]) - 1:\n",
    "            if(numbers[current_x][current_y+1] > numbers[current_x][current_y]):\n",
    "                current_points.append((current_x, current_y+1))\n",
    "\n",
    "        if current_x > 0:\n",
    "            if(numbers[current_x-1][current_y] > numbers[current_x][current_y]):\n",
    "                current_points.append((current_x-1, current_y))\n",
    "\n",
    "        if current_x < len(numbers) - 1:\n",
    "            if(numbers[current_x + 1][current_y] > numbers[current_x][current_y]):\n",
    "                current_points.append((current_x+1, current_y))\n",
    "    # append to the list of basin sizes\n",
    "    basin_sizes.append(len(old_points))"
   ]
  },
  {
   "cell_type": "code",
   "execution_count": 114,
   "id": "0928b20c-fa4e-41ff-8c12-f2140a55f789",
   "metadata": {},
   "outputs": [],
   "source": [
    "# Get the three biggest basins\n",
    "top_3_basins = sorted(basin_sizes)[-3:]"
   ]
  },
  {
   "cell_type": "code",
   "execution_count": 117,
   "id": "d4629f72-981d-4796-924c-87233675b10a",
   "metadata": {},
   "outputs": [
    {
     "data": {
      "text/plain": [
       "1110780"
      ]
     },
     "execution_count": 117,
     "metadata": {},
     "output_type": "execute_result"
    }
   ],
   "source": [
    "# Multiply the three biggest basins for answer 2\n",
    "mult = 1\n",
    "for basin in top_3_basins:\n",
    "    mult *= basin\n",
    "\n",
    "mult"
   ]
  }
 ],
 "metadata": {
  "kernelspec": {
   "display_name": "Python 3 (ipykernel)",
   "language": "python",
   "name": "python3"
  },
  "language_info": {
   "codemirror_mode": {
    "name": "ipython",
    "version": 3
   },
   "file_extension": ".py",
   "mimetype": "text/x-python",
   "name": "python",
   "nbconvert_exporter": "python",
   "pygments_lexer": "ipython3",
   "version": "3.8.10"
  }
 },
 "nbformat": 4,
 "nbformat_minor": 5
}
