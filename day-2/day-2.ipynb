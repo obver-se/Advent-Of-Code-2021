{
 "cells": [
  {
   "cell_type": "code",
   "execution_count": 61,
   "id": "d0c462ac-18cd-4cd7-95c5-260a631a1045",
   "metadata": {},
   "outputs": [],
   "source": [
    "f = open(\"input\")\n",
    "data = f.read()"
   ]
  },
  {
   "cell_type": "code",
   "execution_count": 62,
   "id": "630b3cca-79a5-4d0d-9543-bdb89d98743a",
   "metadata": {},
   "outputs": [],
   "source": [
    "# Split out instructions into pairs of words and integers.\n",
    "# There was an extra endline that was removed with \"[:-1]\"\n",
    "instructions = [(x.split()[0], int(x.split()[1])) for x in data.split('\\n')[:-1]]"
   ]
  },
  {
   "cell_type": "code",
   "execution_count": 63,
   "id": "b4dfd44f-3d97-4aed-b19c-2356d17af666",
   "metadata": {},
   "outputs": [],
   "source": [
    "# Very simple loop for keeping track of horizontal and depth\n",
    "h = 0\n",
    "d = 0\n",
    "for ins in instructions:\n",
    "    # Choose based on the word and add the number\n",
    "    if ins[0] == 'forward':\n",
    "        h += ins[1]\n",
    "    if ins[0] == 'down':\n",
    "        d += ins[1]\n",
    "    if ins[0] == 'up':\n",
    "        d -= ins[1]"
   ]
  },
  {
   "cell_type": "code",
   "execution_count": 64,
   "id": "68c37377-9e58-41a6-8860-82bfca431260",
   "metadata": {},
   "outputs": [
    {
     "data": {
      "text/plain": [
       "2039912"
      ]
     },
     "execution_count": 64,
     "metadata": {},
     "output_type": "execute_result"
    }
   ],
   "source": [
    "# Get the answer\n",
    "h * d"
   ]
  },
  {
   "cell_type": "code",
   "execution_count": 65,
   "id": "6770d900-2c2c-45d7-a439-5648f835b602",
   "metadata": {},
   "outputs": [],
   "source": [
    "aim = 0\n",
    "h = 0\n",
    "d = 0\n",
    "for ins in instructions:\n",
    "    # Forward modifies the depth and horizontal\n",
    "    if ins[0] == 'forward':\n",
    "        h += ins[1]\n",
    "        # Modify the depth based on where the sub is aiming\n",
    "        d += ins[1] * aim\n",
    "        \n",
    "    # Up and down aims the sub\n",
    "    if ins[0] == 'down':\n",
    "        aim += ins[1]\n",
    "    if ins[0] == 'up':\n",
    "        aim -= ins[1]"
   ]
  },
  {
   "cell_type": "code",
   "execution_count": 66,
   "id": "27604d26-3969-490b-9db8-92a5e05e8da1",
   "metadata": {},
   "outputs": [
    {
     "data": {
      "text/plain": [
       "1942068080"
      ]
     },
     "execution_count": 66,
     "metadata": {},
     "output_type": "execute_result"
    }
   ],
   "source": [
    "# Get the answer\n",
    "h * d"
   ]
  }
 ],
 "metadata": {
  "kernelspec": {
   "display_name": "Python 3 (ipykernel)",
   "language": "python",
   "name": "python3"
  },
  "language_info": {
   "codemirror_mode": {
    "name": "ipython",
    "version": 3
   },
   "file_extension": ".py",
   "mimetype": "text/x-python",
   "name": "python",
   "nbconvert_exporter": "python",
   "pygments_lexer": "ipython3",
   "version": "3.8.10"
  }
 },
 "nbformat": 4,
 "nbformat_minor": 5
}
