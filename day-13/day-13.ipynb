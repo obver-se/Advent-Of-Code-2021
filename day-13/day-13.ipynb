{
 "cells": [
  {
   "cell_type": "code",
   "execution_count": 222,
   "id": "86f1e6de-7aba-485d-8654-30a12c9fe6b6",
   "metadata": {},
   "outputs": [],
   "source": [
    "f = open(\"input\")\n",
    "data = f.read()\n",
    "points, folds = data.split(\"\\n\\n\")\n",
    "# Make a list of initial points and future folds\n",
    "points = [list(map(int, path.strip().split(\",\"))) for path in points.strip().split(\"\\n\")]\n",
    "folds = [path.strip().split()[-1].split(\"=\") for path in folds.strip().split(\"\\n\")]"
   ]
  },
  {
   "cell_type": "code",
   "execution_count": 223,
   "id": "7b98ceaf-092e-4a64-aa27-fc464376e6c9",
   "metadata": {},
   "outputs": [],
   "source": [
    "# Build an empty array of the proper size and fill it with the initial points\n",
    "max_x = max(points, key=lambda point: point[0])[0]\n",
    "max_y = max(points, key=lambda point: point[1])[1]\n",
    "array = [[0] * (max_x + 1) for y in range(0, max_y + 1)]\n",
    "for point in points:\n",
    "    # Addressed y, x\n",
    "    array[point[1]][point[0]] = 1"
   ]
  },
  {
   "cell_type": "code",
   "execution_count": 224,
   "id": "0f6f04c1-fdb4-4668-8e1c-25195ce95bc5",
   "metadata": {},
   "outputs": [],
   "source": [
    "def fold_y(array, y):\n",
    "    start_up = y\n",
    "    start_down = y\n",
    "    # Fold by having two pointers start in the middle that then travel away from each other to be mirrored\n",
    "    while start_up >= 0:\n",
    "        # Set the upper half of the mirror\n",
    "        array[start_up] = [col_a + col_b for col_a, col_b in zip(array[start_up], array[start_down])]\n",
    "        # Send the reflected pointers up and down\n",
    "        start_up -= 1\n",
    "        start_down += 1\n",
    "\n",
    "    # get rid of the folded portion\n",
    "    return array[0:y]\n",
    "    "
   ]
  },
  {
   "cell_type": "code",
   "execution_count": 225,
   "id": "f948fa12-adb2-4e28-bbd5-05607ca580dd",
   "metadata": {},
   "outputs": [],
   "source": [
    "def fold_x(array, x):\n",
    "    # Same theory as fold_y but in the x direction\n",
    "    for row in array:\n",
    "        start_right = x\n",
    "        start_left = x\n",
    "        for col in range(0, len(row)):\n",
    "            # Set the left half of the mirror\n",
    "            row[start_left] = row[start_right] + row[start_left]\n",
    "            \n",
    "            start_right += 1\n",
    "            start_left -= 1\n",
    "            \n",
    "            if start_left < 0:\n",
    "                break\n",
    "\n",
    "    # get rid of the folded portion\n",
    "    for row in range(0, len(array)):\n",
    "        array[row] = array[row][0:x]\n",
    "        \n",
    "    return array\n",
    "    "
   ]
  },
  {
   "cell_type": "code",
   "execution_count": 226,
   "id": "72608b17-67fc-4f67-b825-c43f1412c3d0",
   "metadata": {},
   "outputs": [],
   "source": [
    "# Go through the first step alone\n",
    "for step in folds[0:1]:\n",
    "    if step[0] == 'x':\n",
    "        array = fold_x(array, int(step[1]))\n",
    "    else:\n",
    "        array = fold_y(array, int(step[1]))"
   ]
  },
  {
   "cell_type": "code",
   "execution_count": 227,
   "id": "4506dded-117f-4d27-9e35-8a7c264d5722",
   "metadata": {},
   "outputs": [
    {
     "data": {
      "text/plain": [
       "671"
      ]
     },
     "execution_count": 227,
     "metadata": {},
     "output_type": "execute_result"
    }
   ],
   "source": [
    "# Count the number of dots for answer 1\n",
    "total = 0\n",
    "for row in array:\n",
    "    for col in row:\n",
    "        if col > 0:\n",
    "            total += 1\n",
    "total"
   ]
  },
  {
   "cell_type": "code",
   "execution_count": 228,
   "id": "8a119dfa-1e75-4ec7-ab8f-80237e43d554",
   "metadata": {},
   "outputs": [],
   "source": [
    "# Go through the rest of stepsevery single step\n",
    "for step in folds[1:]:\n",
    "    if step[0] == 'x':\n",
    "        array = fold_x(array, int(step[1]))\n",
    "    else:\n",
    "        array = fold_y(array, int(step[1]))"
   ]
  },
  {
   "cell_type": "code",
   "execution_count": 229,
   "id": "47147bab-6ff8-4dc8-8520-9a840fab643c",
   "metadata": {},
   "outputs": [
    {
     "name": "stdout",
     "output_type": "stream",
     "text": [
      "#  #  #  .  .  .  #  #  .  .  #  #  #  .  .  #  .  .  #  .  .  #  #  .  .  #  #  #  .  .  #  .  .  #  .  #  .  .  .  .\n",
      "#  .  .  #  .  #  .  .  #  .  #  .  .  #  .  #  .  .  #  .  #  .  .  #  .  #  .  .  #  .  #  .  #  .  .  #  .  .  .  .\n",
      "#  .  .  #  .  #  .  .  .  .  #  .  .  #  .  #  #  #  #  .  #  .  .  #  .  #  .  .  #  .  #  #  .  .  .  #  .  .  .  .\n",
      "#  #  #  .  .  #  .  .  .  .  #  #  #  .  .  #  .  .  #  .  #  #  #  #  .  #  #  #  .  .  #  .  #  .  .  #  .  .  .  .\n",
      "#  .  .  .  .  #  .  .  #  .  #  .  .  .  .  #  .  .  #  .  #  .  .  #  .  #  .  #  .  .  #  .  #  .  .  #  .  .  .  .\n",
      "#  .  .  .  .  .  #  #  .  .  #  .  .  .  .  #  .  .  #  .  #  .  .  #  .  #  .  .  #  .  #  .  .  #  .  #  #  #  #  .\n"
     ]
    }
   ],
   "source": [
    "# Print it in ./# format for easy reading\n",
    "for row in array:\n",
    "    numbers = row\n",
    "    numbers = [\"#\" if number > 0 else \".\" for number in numbers]\n",
    "    print(\"  \".join(numbers))"
   ]
  },
  {
   "cell_type": "markdown",
   "id": "2aaaf5a3-5ae6-4d8b-a71a-a25efb757ff9",
   "metadata": {},
   "source": [
    "# PCPHARKL"
   ]
  }
 ],
 "metadata": {
  "kernelspec": {
   "display_name": "Python 3 (ipykernel)",
   "language": "python",
   "name": "python3"
  },
  "language_info": {
   "codemirror_mode": {
    "name": "ipython",
    "version": 3
   },
   "file_extension": ".py",
   "mimetype": "text/x-python",
   "name": "python",
   "nbconvert_exporter": "python",
   "pygments_lexer": "ipython3",
   "version": "3.8.10"
  }
 },
 "nbformat": 4,
 "nbformat_minor": 5
}
