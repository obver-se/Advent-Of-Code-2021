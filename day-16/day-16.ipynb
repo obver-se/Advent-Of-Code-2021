{
 "cells": [
  {
   "cell_type": "code",
   "execution_count": 838,
   "id": "39133c11-b84a-49dd-9cdf-a31c8b03e760",
   "metadata": {},
   "outputs": [],
   "source": [
    "f = open(\"input\")\n",
    "# Read in the hex as hex\n",
    "data = f.read().strip()\n",
    "# Figure out how many bits are supposed to be in it in the end\n",
    "bits = len(data) * 4\n",
    "\n",
    "# Turn it into bits\n",
    "packet = \"{0:b}\".format(int(data, 16))\n",
    "# Append leading zeros if needed to bring it back up the number \n",
    "# of bits assuming that each hex character needs 4 bits of width\n",
    "packet = \"0\" * (bits - len(packet)) + packet"
   ]
  },
  {
   "cell_type": "code",
   "execution_count": 839,
   "id": "87c811c2-f681-4482-80d9-3f02832119e6",
   "metadata": {},
   "outputs": [],
   "source": [
    "# Keep a list of versions seen\n",
    "versions = []\n",
    "\n",
    "# This function returns the rest of the packet after it has parsed a packet.\n",
    "# What is left might be trailing zeros, or, in the case of subpackets, more\n",
    "# things that need to be parsed.\n",
    "def parse_packet(total):\n",
    "    # Get the version and keep track of it\n",
    "    v = int(total[0:3], 2)\n",
    "    versions.append(v)\n",
    "    # Get the type of this packet\n",
    "    t = int(total[3:6], 2) # ID\n",
    "        \n",
    "    if t == 4:\n",
    "        # It's a literal value packet\n",
    "        rest = total[6:]\n",
    "        # Keep getting 5 bits while the first bit isn't 0\n",
    "        while len(rest) > 4 and rest[0] != \"0\":\n",
    "            rest = rest[5:]\n",
    "        # Get the last five bits that starts with 0\n",
    "        rest = rest[5:]\n",
    "        return rest\n",
    "    \n",
    "    # If it wasn't a literal then it was an operator with subpackets\n",
    "    # Get the kind of packet\n",
    "    i = int(total[6], 2)\n",
    "    if i == 0:\n",
    "        # Its the kind of packet that specifies bit size\n",
    "        # Get the number of bits\n",
    "        l = int(total[7:7 + 15], 2)\n",
    "        rest = total[7+15:]\n",
    "        \n",
    "        # Keep reading Packets until we've read the number of bits specified\n",
    "        original_length = len(rest)\n",
    "        while l > (original_length - len(rest)):\n",
    "            rest = parse_packet(rest)\n",
    "\n",
    "    else:\n",
    "        # It's the kind of packet that specifies number of packets\n",
    "        # Get the number of packets\n",
    "        l = int(total[7:7 + 11], 2)\n",
    "        rest = total[7+11:]\n",
    "        \n",
    "        for _ in range(0, l):\n",
    "            #print(\"eleven\")\n",
    "            rest= parse_packet(rest)\n",
    "\n",
    "    return rest\n"
   ]
  },
  {
   "cell_type": "code",
   "execution_count": 840,
   "id": "9db34573-28b5-460a-a59c-9d262c5c22a6",
   "metadata": {},
   "outputs": [],
   "source": [
    "# Make a copy of the packet and then parse the copy\n",
    "copy = packet\n",
    "copy = parse_packet(copy)"
   ]
  },
  {
   "cell_type": "code",
   "execution_count": 841,
   "id": "d5556a23-46a1-4fe0-9fb7-24774565dc1e",
   "metadata": {},
   "outputs": [
    {
     "data": {
      "text/plain": [
       "889"
      ]
     },
     "execution_count": 841,
     "metadata": {},
     "output_type": "execute_result"
    }
   ],
   "source": [
    "# Get the sum of the versions (answer 1)\n",
    "sum(versions)"
   ]
  },
  {
   "cell_type": "code",
   "execution_count": 842,
   "id": "16be9f8f-da03-4126-9fa5-fc5927618002",
   "metadata": {},
   "outputs": [],
   "source": [
    "# Difference with this parser is that it also returns and string representing the \n",
    "# rest of the packet and a number representing the current value of that packet.\n",
    "def parse_packet_value(total):\n",
    "    v = int(total[0:3], 2)\n",
    "    t = int(total[3:6], 2) # ID\n",
    "        \n",
    "    if t == 4:\n",
    "        # It's a literal value\n",
    "        rest = total[6:]\n",
    "        value = \"\"\n",
    "        while rest[0] != \"0\":\n",
    "            # Ignore first character and add to value\n",
    "            value += rest[1:5]\n",
    "            rest = rest[5:]\n",
    "            \n",
    "        value += rest[1:5]\n",
    "        rest = rest[5:]\n",
    "        return rest, int(value, 2)\n",
    "    \n",
    "\n",
    "    # It's an operator\n",
    "    i = int(total[6], 2)\n",
    "    sub_values = []\n",
    "    if i == 0:\n",
    "        l = int(total[7:7 + 15], 2)\n",
    "        rest = total[7+15:]\n",
    "        \n",
    "        original_length = len(rest)\n",
    "        while l > (original_length - len(rest)):\n",
    "            rest, val = parse_packet_value(rest)\n",
    "            # Keep track of what values the sub packets have\n",
    "            sub_values.append(val)\n",
    "\n",
    "    else:\n",
    "        l = int(total[7:7 + 11], 2)\n",
    "        rest = total[7+11:]\n",
    "        \n",
    "        original_length = len(rest)\n",
    "        for _ in range(0, l):\n",
    "            rest, val = parse_packet_value(rest)\n",
    "            # Keep track of what values the sub packets have\n",
    "            sub_values.append(val)\n",
    "\n",
    "    # Handle the operations that would be performed on the sub packet values\n",
    "    if t == 0:\n",
    "        # Sum of sub packets\n",
    "        return rest, sum(sub_values)\n",
    "    if t == 1:\n",
    "        # Multiplication of sub packets\n",
    "        a = 1\n",
    "        for x in sub_values:\n",
    "            a *= x\n",
    "        return rest, a\n",
    "    if t == 2:\n",
    "        # Minimum of subpackets\n",
    "        return rest, min(sub_values)\n",
    "    if t == 3:\n",
    "        # Maximum of subpackets\n",
    "        return rest, max(sub_values)\n",
    "    if t == 5:\n",
    "        # If the first subpacket is greater than the second then 1 else 0\n",
    "        return rest, 1 if sub_values[0] > sub_values[1] else 0\n",
    "    if t == 6:\n",
    "        # If the first subpacket is less than the second then 1 else 0\n",
    "        return rest, 1 if sub_values[0] < sub_values[1] else 0\n",
    "    if t == 7:\n",
    "        # If the first subpacket is equal than the second then 1 else 0\n",
    "        return rest, 1 if sub_values[0] == sub_values[1] else 0\n",
    "    \n",
    "    return rest, 0\n",
    "\n"
   ]
  },
  {
   "cell_type": "code",
   "execution_count": 843,
   "id": "bac22a95-cf03-410d-be8e-10270f26d267",
   "metadata": {
    "tags": []
   },
   "outputs": [],
   "source": [
    "# Run the packets through the packet value parser\n",
    "copy = packet\n",
    "rest, val = parse_packet_value(copy)"
   ]
  },
  {
   "cell_type": "code",
   "execution_count": 844,
   "id": "272c6279-b9c2-4790-85c5-e21286d3c57d",
   "metadata": {},
   "outputs": [
    {
     "data": {
      "text/plain": [
       "739303923668"
      ]
     },
     "execution_count": 844,
     "metadata": {},
     "output_type": "execute_result"
    }
   ],
   "source": [
    "# Print out the final value after all the operations (answer 2)\n",
    "val"
   ]
  },
  {
   "cell_type": "code",
   "execution_count": null,
   "id": "d292afcb-7e17-41f2-aa97-9fdab7b12de1",
   "metadata": {},
   "outputs": [],
   "source": []
  }
 ],
 "metadata": {
  "kernelspec": {
   "display_name": "Python 3 (ipykernel)",
   "language": "python",
   "name": "python3"
  },
  "language_info": {
   "codemirror_mode": {
    "name": "ipython",
    "version": 3
   },
   "file_extension": ".py",
   "mimetype": "text/x-python",
   "name": "python",
   "nbconvert_exporter": "python",
   "pygments_lexer": "ipython3",
   "version": "3.8.10"
  }
 },
 "nbformat": 4,
 "nbformat_minor": 5
}
