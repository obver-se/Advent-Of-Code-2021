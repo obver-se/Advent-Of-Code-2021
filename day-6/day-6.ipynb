{
 "cells": [
  {
   "cell_type": "code",
   "execution_count": 156,
   "id": "3b64fd52-aaf5-41bb-8655-c0a1bf534914",
   "metadata": {},
   "outputs": [],
   "source": [
    "f = open(\"input\")\n",
    "fish = list(map(int, f.read().strip().split(\",\")))"
   ]
  },
  {
   "cell_type": "code",
   "execution_count": 157,
   "id": "547c8537-7d1e-473e-9ffd-bb89f4a1ae56",
   "metadata": {},
   "outputs": [],
   "source": [
    "# The naive solution. Keep track of the fish individually\n",
    "def cycle(start):\n",
    "    a = []\n",
    "    for x in start:\n",
    "        if x == 0:\n",
    "            # If a fish creates more fish then create a new \n",
    "            # fish at time 8 and return the fish to time 6\n",
    "            a.append(8)\n",
    "            a.append(6)\n",
    "        else:\n",
    "            # Otherwise decrease the fish's timer\n",
    "            a.append(x - 1)\n",
    "\n",
    "    return a"
   ]
  },
  {
   "cell_type": "code",
   "execution_count": 158,
   "id": "0016da06-682e-4921-89a5-bd815817b1c4",
   "metadata": {},
   "outputs": [
    {
     "data": {
      "text/plain": [
       "377263"
      ]
     },
     "execution_count": 158,
     "metadata": {},
     "output_type": "execute_result"
    }
   ],
   "source": [
    "# Do this for 80 days\n",
    "fish80 = fish\n",
    "for x in range(0, 80):\n",
    "    fish80 = cycle(fish80)\n",
    "\n",
    "# Answer 1 the number of fish where they \n",
    "# are represented by individual numbers\n",
    "len(fish80)"
   ]
  },
  {
   "cell_type": "code",
   "execution_count": 159,
   "id": "8846d931-68dc-42e5-b222-55a3d623c17f",
   "metadata": {},
   "outputs": [],
   "source": [
    "# Instead of handling the fish individually, put the fish \n",
    "# into age categories and keep track of the number in each \n",
    "# category ( 0 to 8 inclusive )\n",
    "\n",
    "# Bucketize fish (  9 buckets )\n",
    "fish_buckets = [0] * 9\n",
    "\n",
    "for fi in fish:\n",
    "    fish_buckets[fi] += 1\n",
    "\n",
    "\n",
    "def cycle(buckets):\n",
    "    # This cycle shifts the array down one and adds the \n",
    "    # fish at zero to age 6 and age 8 to represent spawning\n",
    "    new_bucket = [0] * 9\n",
    "    new_bucket[0:8] = buckets[1:9]\n",
    "    # Spawn new fish\n",
    "    new_bucket[8] += buckets[0]\n",
    "    # Send spawned fish to 6\n",
    "    new_bucket[6] += buckets[0]\n",
    "    \n",
    "    return new_bucket"
   ]
  },
  {
   "cell_type": "code",
   "execution_count": 160,
   "id": "5a189f18-8d36-41f0-b46e-45b4c4c678f7",
   "metadata": {},
   "outputs": [],
   "source": [
    "for x in range(0, 256):\n",
    "    fish_buckets = cycle(fish_buckets)"
   ]
  },
  {
   "cell_type": "code",
   "execution_count": 161,
   "id": "14caba03-b114-4632-bb26-2c718c109cf1",
   "metadata": {},
   "outputs": [
    {
     "data": {
      "text/plain": [
       "1695929023803"
      ]
     },
     "execution_count": 161,
     "metadata": {},
     "output_type": "execute_result"
    }
   ],
   "source": [
    "# Answer 2 the number of total fish where \n",
    "# they are represented by counts in each bucket\n",
    "sum(fish_buckets)"
   ]
  },
  {
   "cell_type": "code",
   "execution_count": null,
   "id": "c757bba7-b01c-4ac1-b0d0-bfd43693d0f5",
   "metadata": {},
   "outputs": [],
   "source": []
  }
 ],
 "metadata": {
  "kernelspec": {
   "display_name": "Python 3 (ipykernel)",
   "language": "python",
   "name": "python3"
  },
  "language_info": {
   "codemirror_mode": {
    "name": "ipython",
    "version": 3
   },
   "file_extension": ".py",
   "mimetype": "text/x-python",
   "name": "python",
   "nbconvert_exporter": "python",
   "pygments_lexer": "ipython3",
   "version": "3.8.10"
  }
 },
 "nbformat": 4,
 "nbformat_minor": 5
}
