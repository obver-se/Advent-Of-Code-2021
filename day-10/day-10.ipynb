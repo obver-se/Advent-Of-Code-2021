{
 "cells": [
  {
   "cell_type": "code",
   "execution_count": 62,
   "id": "5253d470-627d-4bc3-85dd-a6ef1cca0af8",
   "metadata": {},
   "outputs": [],
   "source": [
    "f = open(\"input\")\n",
    "# Get each line individually\n",
    "lines = [line.strip() for line in f]"
   ]
  },
  {
   "cell_type": "code",
   "execution_count": 63,
   "id": "a159e2a0-c03e-49ec-a16f-c09f7a85590f",
   "metadata": {},
   "outputs": [],
   "source": [
    "# What closing character is required for each opening character\n",
    "pairs = {\n",
    "    \">\": \"<\",\n",
    "    \")\": \"(\",\n",
    "    \"]\": \"[\",\n",
    "    \"}\": \"{\",\n",
    "}"
   ]
  },
  {
   "cell_type": "code",
   "execution_count": 64,
   "id": "2864f4b1-9033-4a89-8ec9-2adc69a722fb",
   "metadata": {},
   "outputs": [],
   "source": [
    "first_errors = []\n",
    "for line in lines:\n",
    "    # Keep track of the stack of opening parens\n",
    "    stack = []\n",
    "    for character in line:\n",
    "        # If the character isn't a closing paren then add it to the stack\n",
    "        if character not in pairs:\n",
    "            stack.append(character)\n",
    "        else:\n",
    "            # If it is a closing character make sure it is the correct closing character\n",
    "            top = stack.pop()\n",
    "            if top != pairs[character]:\n",
    "                # If it isn't correct then this line is done. Keep track of wrong characters\n",
    "                first_errors.append(character)\n",
    "                break"
   ]
  },
  {
   "cell_type": "code",
   "execution_count": 65,
   "id": "898e4565-78cc-4399-9769-c3f9197f59d0",
   "metadata": {},
   "outputs": [
    {
     "data": {
      "text/plain": [
       "392367"
      ]
     },
     "execution_count": 65,
     "metadata": {},
     "output_type": "execute_result"
    }
   ],
   "source": [
    "# Invalid character to the score for that  character\n",
    "wrong_to_value = {\n",
    "    ')': 3,\n",
    "    ']': 57,\n",
    "    '}': 1197,\n",
    "    '>': 25137,\n",
    "}\n",
    "\n",
    "# Go from the wrong character to the score then get the sum of all those characters\n",
    "sum([wrong_to_value[error] for error in first_errors])"
   ]
  },
  {
   "cell_type": "code",
   "execution_count": 66,
   "id": "ba5281ee-2b41-443c-940c-d04608729551",
   "metadata": {},
   "outputs": [],
   "source": [
    "# Go from the completed character to the score for that character\n",
    "completion_to_value = {\n",
    "    ')': 3,\n",
    "    ']': 57,\n",
    "    '}': 1197,\n",
    "    '>': 25137,\n",
    "}\n",
    "\n",
    "# Like the other pairs but it goes from opening parens to closing parens\n",
    "completion_pairs = {\n",
    "    \"<\": \">\",\n",
    "    \"(\": \")\",\n",
    "    \"[\": \"]\",\n",
    "    \"{\": \"}\",\n",
    "}\n",
    "\n",
    "# List of string needed to complete each completable line\n",
    "completions = []\n",
    "for line in lines:\n",
    "    # Much like last time\n",
    "    stack = []\n",
    "    for character in line:\n",
    "        if character not in pairs:\n",
    "            stack.append(character)\n",
    "        else:\n",
    "            top = stack.pop()\n",
    "            if top != pairs[character]:\n",
    "                # Bad parens, unfixable\n",
    "                break\n",
    "    else:\n",
    "        # After closing all the closed parens there will be a list of \n",
    "        # unclosed parens\n",
    "        \n",
    "        # Reverse these parens and turn it from a list into a string\n",
    "        completion = [completion_pairs[entry] for entry in stack]\n",
    "        completions.append(\"\".join(completion[::-1]))"
   ]
  },
  {
   "cell_type": "code",
   "execution_count": 67,
   "id": "4675c721-208c-468a-b833-bc578378051d",
   "metadata": {},
   "outputs": [],
   "source": [
    "# Convert each completion into its score\n",
    "scores = {\n",
    "    \")\" : 1,\n",
    "    \"]\" : 2,\n",
    "    \"}\" : 3,\n",
    "    \">\" : 4,\n",
    "}\n",
    "\n",
    "scores = [ [scores[character] for character in completion] for completion in completions]"
   ]
  },
  {
   "cell_type": "code",
   "execution_count": 68,
   "id": "72636cff-de27-441a-a737-179da0ad3c60",
   "metadata": {},
   "outputs": [],
   "source": [
    "final_scores = []\n",
    "# Each score needs to be calculated individually\n",
    "for score in scores:\n",
    "    current_score = 0\n",
    "    # For each paren score, mult the score by 5 and add the score for the parens\n",
    "    for value in score:\n",
    "        current_score *= 5\n",
    "        current_score += value\n",
    "    # Add the score to the list\n",
    "    final_scores.append(current_score)"
   ]
  },
  {
   "cell_type": "code",
   "execution_count": 69,
   "id": "2b41689f-6eb5-464a-bf6c-f06a80ff8c76",
   "metadata": {},
   "outputs": [
    {
     "data": {
      "text/plain": [
       "2192104158"
      ]
     },
     "execution_count": 69,
     "metadata": {},
     "output_type": "execute_result"
    }
   ],
   "source": [
    "# Get the middle element of the sorted list of scores to get the median\n",
    "sorted(final_scores)[(len(final_scores) // 2)]"
   ]
  },
  {
   "cell_type": "code",
   "execution_count": null,
   "id": "aca63cc2-8e2a-491d-a62c-973c9004b4e5",
   "metadata": {},
   "outputs": [],
   "source": []
  }
 ],
 "metadata": {
  "kernelspec": {
   "display_name": "Python 3 (ipykernel)",
   "language": "python",
   "name": "python3"
  },
  "language_info": {
   "codemirror_mode": {
    "name": "ipython",
    "version": 3
   },
   "file_extension": ".py",
   "mimetype": "text/x-python",
   "name": "python",
   "nbconvert_exporter": "python",
   "pygments_lexer": "ipython3",
   "version": "3.8.10"
  }
 },
 "nbformat": 4,
 "nbformat_minor": 5
}
