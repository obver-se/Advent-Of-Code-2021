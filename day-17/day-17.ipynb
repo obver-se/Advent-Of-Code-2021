{
 "cells": [
  {
   "cell_type": "code",
   "execution_count": 32,
   "id": "cabde5d1-16cc-42f4-8fd6-174d902f0ab7",
   "metadata": {},
   "outputs": [],
   "source": [
    "x_min, x_max = [137, 171]"
   ]
  },
  {
   "cell_type": "code",
   "execution_count": 33,
   "id": "cbfe92fe-fffe-4f65-936f-262c7486b994",
   "metadata": {},
   "outputs": [],
   "source": [
    "y_min, y_max = [-98, -73]"
   ]
  },
  {
   "cell_type": "code",
   "execution_count": 34,
   "id": "7be23823-534b-4eaa-b458-fd7065f25b95",
   "metadata": {},
   "outputs": [],
   "source": [
    "# Find all x values that have a chance of hitting the mark\n",
    "# X velocitys that go over the marked area or don't go far enough\n",
    "# don't make the cut\n",
    "x_vol_range = []\n",
    "\n",
    "# We need at least speed one to go forward\n",
    "for x in range(1, x_max + 1):\n",
    "    speed = x\n",
    "\n",
    "    # Does it ever get far enough?\n",
    "    curr_x = 0\n",
    "    while speed != 0:\n",
    "        curr_x += speed\n",
    "        speed -= 1\n",
    "        \n",
    "        if curr_x >= x_min and curr_x <= x_max:\n",
    "            x_vol_range.append(x)\n",
    "            break\n",
    "            \n",
    "# Find all y values that have a chance of hitting the mark\n",
    "# Y velocitys that go over the marked area\n",
    "y_vol_range = []\n",
    "for y in range(y_min, abs(y_min)+1):\n",
    "    speed = y\n",
    "\n",
    "    # Does it skip over the target area?\n",
    "    curr_y = 0\n",
    "    while curr_y >= y_min or speed > 0:\n",
    "        curr_y += speed\n",
    "        speed -= 1\n",
    "        \n",
    "        if curr_y >= y_min and curr_y <= y_max:\n",
    "            y_vol_range.append(y)\n",
    "            break"
   ]
  },
  {
   "cell_type": "code",
   "execution_count": 35,
   "id": "e2557955-2ee8-4369-87ab-0e81e83a0c54",
   "metadata": {},
   "outputs": [],
   "source": [
    "# Keep track of the highest y value\n",
    "highest_y = None\n",
    "\n",
    "# Start with the largest y value so we can exit as soon as we hit the target area\n",
    "for y in y_vol_range[::-1]:\n",
    "    for x in x_vol_range:\n",
    "        y_speed = y\n",
    "        x_speed = x\n",
    "        \n",
    "        curr_x = 0\n",
    "        curr_y = 0\n",
    "        \n",
    "        # Keep track of how high we went with this configuration\n",
    "        curr_highest_y = 0\n",
    "        \n",
    "        # While were not below the target area or we are going up\n",
    "        while curr_y >= y_min or speed > 0:\n",
    "            curr_x += x_speed\n",
    "            curr_y += y_speed\n",
    "            y_speed -= 1\n",
    "            x_speed -= 1\n",
    "            x_speed = max(0, x_speed)\n",
    "            if curr_y > curr_highest_y:\n",
    "                curr_highest_y = curr_y\n",
    "            \n",
    "            if curr_x >= x_min and curr_x <= x_max and curr_y >= y_min and curr_y <= y_max:\n",
    "                # If we hit the target area then mark the highest y value and stop simulating\n",
    "                highest_y = curr_highest_y\n",
    "                break\n",
    "    if highest_y:\n",
    "        # Stop searching as soon as a good value has been found because y only keeps decreasing\n",
    "        break"
   ]
  },
  {
   "cell_type": "code",
   "execution_count": 36,
   "id": "c2e5eb3b-723a-4c78-b252-d0cc4d42db03",
   "metadata": {},
   "outputs": [
    {
     "data": {
      "text/plain": [
       "4753"
      ]
     },
     "execution_count": 36,
     "metadata": {},
     "output_type": "execute_result"
    }
   ],
   "source": [
    "# Get answer 1\n",
    "highest_y"
   ]
  },
  {
   "cell_type": "code",
   "execution_count": 37,
   "id": "bb2ff459-72fa-440d-85f2-90f5d1099ebd",
   "metadata": {},
   "outputs": [],
   "source": [
    "# Keep track of how many were hits\n",
    "count = 0\n",
    "for y in y_vol_range:\n",
    "    for x in x_vol_range:\n",
    "        y_speed = y\n",
    "        x_speed = x\n",
    "        \n",
    "        curr_x = 0\n",
    "        curr_y = 0\n",
    "        \n",
    "        curr_highest_y = 0\n",
    "        while curr_y > y_min or y_speed > 0:\n",
    "            curr_x += x_speed\n",
    "            curr_y += y_speed\n",
    "            y_speed -= 1\n",
    "            x_speed -= 1\n",
    "            x_speed = max(0, x_speed)\n",
    "            \n",
    "            if curr_x >= x_min and curr_x <= x_max and curr_y >= y_min and curr_y <= y_max:\n",
    "                # It's a hit\n",
    "                count += 1\n",
    "                break"
   ]
  },
  {
   "cell_type": "code",
   "execution_count": 38,
   "id": "85023da8-77b4-4cee-b198-360245d79e11",
   "metadata": {},
   "outputs": [
    {
     "data": {
      "text/plain": [
       "1546"
      ]
     },
     "execution_count": 38,
     "metadata": {},
     "output_type": "execute_result"
    }
   ],
   "source": [
    "# Get answer 2\n",
    "count"
   ]
  }
 ],
 "metadata": {
  "kernelspec": {
   "display_name": "Python 3 (ipykernel)",
   "language": "python",
   "name": "python3"
  },
  "language_info": {
   "codemirror_mode": {
    "name": "ipython",
    "version": 3
   },
   "file_extension": ".py",
   "mimetype": "text/x-python",
   "name": "python",
   "nbconvert_exporter": "python",
   "pygments_lexer": "ipython3",
   "version": "3.8.10"
  }
 },
 "nbformat": 4,
 "nbformat_minor": 5
}
