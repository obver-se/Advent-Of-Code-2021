{
 "cells": [
  {
   "cell_type": "code",
   "execution_count": 488,
   "id": "274f1e61-0846-4fb1-b6e7-1f073b0e560b",
   "metadata": {},
   "outputs": [],
   "source": [
    "f = open(\"input\")\n",
    "data = [list(map(int, line)) for line in f.read().strip().split(\"\\n\")]\n",
    "new_minimums = [[0] * len(data[0]) for x in range(0, len(data)) ]"
   ]
  },
  {
   "cell_type": "code",
   "execution_count": 489,
   "id": "a598685e-861a-42f7-a3ee-bfde7a706cda",
   "metadata": {},
   "outputs": [],
   "source": [
    "# Create a table of down and to the right moves and determine the minimum \n",
    "# cost to get to each position from that\n",
    "for row in range(0, len(data)):\n",
    "    for col in range(0, len(data[0])):\n",
    "        if row > 0 and col > 0:\n",
    "            # We could have come from the left or above\n",
    "            new_minimums[row][col] += data[row][col] + min(new_minimums[row-1][col], new_minimums[row][col-1])\n",
    "        elif row > 0:\n",
    "            # We had to have come from the above\n",
    "            new_minimums[row][col] += data[row][col] + new_minimums[row-1][col]\n",
    "        elif col > 0:\n",
    "            # We had to have come from the left\n",
    "            new_minimums[row][col] += data[row][col] + new_minimums[row][col-1]"
   ]
  },
  {
   "cell_type": "code",
   "execution_count": 490,
   "id": "8f473a9d-753c-40ec-92fa-d2163c40f927",
   "metadata": {},
   "outputs": [],
   "source": [
    "def create_new_minimums(data_a):\n",
    "    # Handle every posible direction\n",
    "    for row in range(0, len(data_a)):\n",
    "        for col in range(0, len(data_a[0])):\n",
    "            potentials = []\n",
    "            if row > 0:\n",
    "                # From above\n",
    "                potentials.append(data_a[row][col] + new_minimums[row - 1][col])\n",
    "            if row < len(data_a) - 1:\n",
    "                # From below\n",
    "                potentials.append(data_a[row][col] + new_minimums[row + 1][col])\n",
    "            \n",
    "            if col > 0:\n",
    "                # From the left\n",
    "                potentials.append(data_a[row][col] + new_minimums[row][col-1])\n",
    "            if col < len(data_a[0]) - 1:\n",
    "                # From the right\n",
    "                potentials.append(data_a[row][col] + new_minimums[row][col+1])\n",
    "            \n",
    "            new_minimums[row][col] = min(potentials + [new_minimums[row][col]])"
   ]
  },
  {
   "cell_type": "code",
   "execution_count": 491,
   "id": "17a032d4-d998-4c2a-b22e-6e3f49827a4d",
   "metadata": {},
   "outputs": [],
   "source": [
    "# Consider a detour of at most, 10 positions left/up\n",
    "for x in range(0, 10):\n",
    "    create_new_minimums(data)"
   ]
  },
  {
   "cell_type": "code",
   "execution_count": 492,
   "id": "1cab3863-7e22-4f5e-872b-387599725dc4",
   "metadata": {},
   "outputs": [
    {
     "data": {
      "text/plain": [
       "458"
      ]
     },
     "execution_count": 492,
     "metadata": {},
     "output_type": "execute_result"
    }
   ],
   "source": [
    "# Get answer 1 (ignore the value of the starting point)\n",
    "new_minimums[-1][-1] - new_minimums[0][0]"
   ]
  },
  {
   "cell_type": "code",
   "execution_count": 493,
   "id": "335dc1fc-7651-4ccd-b063-8e7c10d01b13",
   "metadata": {},
   "outputs": [],
   "source": [
    "\n",
    "\n",
    "wide_map = []\n",
    "for row in range(0, len(data)):\n",
    "    new_row = []\n",
    "    for x in range(0, 5):\n",
    "        new_row += [(cell + x) for cell in data[row]]\n",
    "    new_row = [cell if cell < 10 else cell - 9 for cell in new_row]\n",
    "    wide_map.append(new_row)\n",
    "\n",
    "\n",
    "higher = []\n",
    "# Add all the rows downward 5 times\n",
    "for r in range(0, 5):\n",
    "    for row in wide_map:\n",
    "        higher.append([cell + r if cell + r < 10 else cell + r - 9 for cell in row])\n",
    "\n"
   ]
  },
  {
   "cell_type": "code",
   "execution_count": 497,
   "id": "9f790637-5fb3-4065-859a-a1187330e886",
   "metadata": {},
   "outputs": [],
   "source": [
    "new_minimums = [[0] * len(higher[0]) for x in range(0, len(higher))]\n",
    "\n",
    "new_minimums[0][0] = higher[0][0]\n",
    "# Handle the down and to the right cases\n",
    "for row in range(0, len(higher)):\n",
    "    for col in range(0, len(higher[0])):\n",
    "        if row > 0 and col > 0:\n",
    "            # We could have come from the left or above\n",
    "            new_minimums[row][col] += higher[row][col] + min(new_minimums[row-1][col], new_minimums[row][col-1])\n",
    "        elif row > 0:\n",
    "            # We had to have come from the above\n",
    "            new_minimums[row][col] += higher[row][col] + new_minimums[row-1][col]\n",
    "        elif col > 0:\n",
    "            # We had to have come from the left\n",
    "            new_minimums[row][col] += higher[row][col] + new_minimums[row][col-1]\n"
   ]
  },
  {
   "cell_type": "code",
   "execution_count": 498,
   "id": "86425865-4d76-4ffd-804a-6501a95e3108",
   "metadata": {
    "tags": []
   },
   "outputs": [],
   "source": [
    "for x in range(0, 10):\n",
    "    create_new_minimums(higher)"
   ]
  },
  {
   "cell_type": "code",
   "execution_count": 499,
   "id": "cb2614db-96b6-45a5-a58a-cfc4d8ebb9f2",
   "metadata": {
    "tags": []
   },
   "outputs": [
    {
     "data": {
      "text/plain": [
       "2800"
      ]
     },
     "execution_count": 499,
     "metadata": {},
     "output_type": "execute_result"
    }
   ],
   "source": [
    "# Get answer 2 (ignore the value of the starting point)\n",
    "new_minimums[-1][-1] - higher[0][0]\n"
   ]
  }
 ],
 "metadata": {
  "kernelspec": {
   "display_name": "Python 3 (ipykernel)",
   "language": "python",
   "name": "python3"
  },
  "language_info": {
   "codemirror_mode": {
    "name": "ipython",
    "version": 3
   },
   "file_extension": ".py",
   "mimetype": "text/x-python",
   "name": "python",
   "nbconvert_exporter": "python",
   "pygments_lexer": "ipython3",
   "version": "3.8.10"
  }
 },
 "nbformat": 4,
 "nbformat_minor": 5
}
