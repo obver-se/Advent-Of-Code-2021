{
 "cells": [
  {
   "cell_type": "code",
   "execution_count": 12,
   "id": "e7ccadfd-7d29-4697-9f71-f53013fa6d2a",
   "metadata": {},
   "outputs": [],
   "source": [
    "f = open(\"input\")\n",
    "data = f.read().strip().split(\"\\n\")"
   ]
  },
  {
   "cell_type": "code",
   "execution_count": 136,
   "id": "3db2f983-4720-498b-b23c-84aac63cc942",
   "metadata": {},
   "outputs": [],
   "source": [
    "# Get the most common bits for each position and return it as a string\n",
    "def get_binary(data_i):\n",
    "    # Ge the number of ones for each position\n",
    "    counts = [len([x[col] for x in data_i if x[col] == '1']) for col in range(0,len(data_i[0]))]\n",
    "    # If the number of ones is greater than or equal half the length then it's a 1 else 0\n",
    "    values = [ \"1\" if count >= len(data_i) / 2 else \"0\" for count in counts]\n",
    "    # Return as a string\n",
    "    return \"\".join(values)"
   ]
  },
  {
   "cell_type": "code",
   "execution_count": 143,
   "id": "5baaaa53-00fd-4a55-9843-f137be2a79b5",
   "metadata": {},
   "outputs": [
    {
     "data": {
      "text/plain": [
       "'101111001110'"
      ]
     },
     "execution_count": 143,
     "metadata": {},
     "output_type": "execute_result"
    }
   ],
   "source": [
    "get_binary(data)"
   ]
  },
  {
   "cell_type": "code",
   "execution_count": 144,
   "id": "1b81defb-cfed-4116-9bfa-84b6a0d70d5b",
   "metadata": {},
   "outputs": [
    {
     "data": {
      "text/plain": [
       "3022"
      ]
     },
     "execution_count": 144,
     "metadata": {},
     "output_type": "execute_result"
    }
   ],
   "source": [
    "# Manual conversion\n",
    "int(\"101111001110\", 2)"
   ]
  },
  {
   "cell_type": "code",
   "execution_count": 145,
   "id": "1b6845e4-2556-47cf-b313-137723b54df0",
   "metadata": {},
   "outputs": [
    {
     "data": {
      "text/plain": [
       "1073"
      ]
     },
     "execution_count": 145,
     "metadata": {},
     "output_type": "execute_result"
    }
   ],
   "source": [
    "# Ditto\n",
    "int(\"010000110001\", 2)"
   ]
  },
  {
   "cell_type": "code",
   "execution_count": 146,
   "id": "bb191c0a-ff05-4370-8fa4-7d6fd43097d6",
   "metadata": {},
   "outputs": [
    {
     "data": {
      "text/plain": [
       "3242606"
      ]
     },
     "execution_count": 146,
     "metadata": {},
     "output_type": "execute_result"
    }
   ],
   "source": [
    "# Get the answer for part one\n",
    "3022 * 1073"
   ]
  },
  {
   "cell_type": "code",
   "execution_count": 149,
   "id": "8693aec9-a32f-4f9f-9d02-262c29aede55",
   "metadata": {},
   "outputs": [],
   "source": [
    "new_data = data\n",
    "for x in range(0, len(data[0])):\n",
    "    # for each bit get the most common bit for all bits\n",
    "    binary = get_binary(new_data)\n",
    "    \n",
    "    # Filter by comparing to the most common current bit\n",
    "    new_data = [d for d in new_data if d[x] == binary[x]]\n",
    "    \n",
    "    # If there is only one bit left then that's it\n",
    "    if len(new_data) == 1:\n",
    "        break"
   ]
  },
  {
   "cell_type": "code",
   "execution_count": 150,
   "id": "e14a001c-d24c-4c22-967c-f45b96c90a4e",
   "metadata": {},
   "outputs": [
    {
     "data": {
      "text/plain": [
       "'101110111101'"
      ]
     },
     "execution_count": 150,
     "metadata": {},
     "output_type": "execute_result"
    }
   ],
   "source": [
    "new_data[0]"
   ]
  },
  {
   "cell_type": "code",
   "execution_count": 151,
   "id": "aff6180d-a023-4da8-a3e0-133d8dddd4bf",
   "metadata": {},
   "outputs": [],
   "source": [
    "new_data = data\n",
    "for x in range(0, len(data[0])):\n",
    "    # for each bit get the most common bit for all bits\n",
    "    binary = get_binary(new_data)\n",
    "    \n",
    "    # Filter by comparing to the most current bit to determine the least common bit\n",
    "    new_data = [d for d in new_data if d[x] != binary[x]]\n",
    "    \n",
    "    # If there is only one bit left then that's it\n",
    "    if len(new_data) == 1:\n",
    "        break"
   ]
  },
  {
   "cell_type": "code",
   "execution_count": 152,
   "id": "6d4de0ba-416a-4fe8-8dd9-fbedd8bf6bb3",
   "metadata": {},
   "outputs": [
    {
     "data": {
      "text/plain": [
       "'011001010000'"
      ]
     },
     "execution_count": 152,
     "metadata": {},
     "output_type": "execute_result"
    }
   ],
   "source": [
    "new_data[0]"
   ]
  },
  {
   "cell_type": "code",
   "execution_count": 142,
   "id": "7205425c-a51b-45b7-9b63-38383340d9c0",
   "metadata": {},
   "outputs": [
    {
     "data": {
      "text/plain": [
       "4856080"
      ]
     },
     "execution_count": 142,
     "metadata": {},
     "output_type": "execute_result"
    }
   ],
   "source": [
    "# Get the answer for part 2\n",
    "int('101110111101', 2) * int('011001010000', 2)"
   ]
  }
 ],
 "metadata": {
  "kernelspec": {
   "display_name": "Python 3 (ipykernel)",
   "language": "python",
   "name": "python3"
  },
  "language_info": {
   "codemirror_mode": {
    "name": "ipython",
    "version": 3
   },
   "file_extension": ".py",
   "mimetype": "text/x-python",
   "name": "python",
   "nbconvert_exporter": "python",
   "pygments_lexer": "ipython3",
   "version": "3.8.10"
  }
 },
 "nbformat": 4,
 "nbformat_minor": 5
}
