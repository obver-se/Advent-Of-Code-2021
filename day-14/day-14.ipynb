{
 "cells": [
  {
   "cell_type": "code",
   "execution_count": 461,
   "id": "3b54f1eb-aeff-467d-a176-0b90ef2ad94c",
   "metadata": {},
   "outputs": [],
   "source": [
    "f = open(\"input\")\n",
    "template = next(f).strip()\n",
    "next(f)  # Skip the blank line\n",
    "# Read in the pairs as a dictionary of pair string to middle letter eg {'ab': 'c'}\n",
    "pairs = [line.strip().split(\" -> \") for line in f]\n",
    "pairs = {pair[0]:pair[1] for pair in pairs}"
   ]
  },
  {
   "cell_type": "code",
   "execution_count": 462,
   "id": "920f9e15-4c32-44c9-8ce0-373f4daf7f30",
   "metadata": {},
   "outputs": [],
   "source": [
    "# Naive solution\n",
    "def step(template):\n",
    "    output = \"\"\n",
    "    # For each character pair, add the first character and the middle character\n",
    "    for x in range(0, len(template) - 1):\n",
    "        output += template[x]+ pairs[template[x] + template[x + 1]]\n",
    "    \n",
    "    # Don't for get to add the last character\n",
    "    output += template[-1]\n",
    "    \n",
    "    return output"
   ]
  },
  {
   "cell_type": "code",
   "execution_count": 463,
   "id": "0fb11fec-80df-4a3e-968f-d0e8bf95484e",
   "metadata": {},
   "outputs": [],
   "source": [
    "for x in range(0,10):\n",
    "    template = step(template)"
   ]
  },
  {
   "cell_type": "code",
   "execution_count": 464,
   "id": "2ea9de8d-995c-401a-963d-a08d2fd6d8a7",
   "metadata": {},
   "outputs": [],
   "source": [
    "def count(string):\n",
    "    # Count the frequency of each character\n",
    "    counts = {}\n",
    "    for x in string:\n",
    "        if x in counts:\n",
    "            counts[x] += 1\n",
    "        else:\n",
    "            counts[x] = 1\n",
    "\n",
    "    # Get the minimum and maximum letters as (letter, count) pairs\n",
    "    return max(counts.items(), key=lambda a: a[1]), min(counts.items(), key=lambda a: a[1])"
   ]
  },
  {
   "cell_type": "code",
   "execution_count": 465,
   "id": "a98e34cd-1f11-41a7-a891-ae471cb8604a",
   "metadata": {},
   "outputs": [
    {
     "data": {
      "text/plain": [
       "(('N', 4285), ('K', 1001))"
      ]
     },
     "execution_count": 465,
     "metadata": {},
     "output_type": "execute_result"
    }
   ],
   "source": [
    "count(template)"
   ]
  },
  {
   "cell_type": "code",
   "execution_count": 466,
   "id": "b1b41880-7b70-4f90-8ba7-fc94119c80e7",
   "metadata": {},
   "outputs": [
    {
     "data": {
      "text/plain": [
       "3284"
      ]
     },
     "execution_count": 466,
     "metadata": {},
     "output_type": "execute_result"
    }
   ],
   "source": [
    "# Subtract for answer 1\n",
    "4285 - 1001"
   ]
  },
  {
   "cell_type": "code",
   "execution_count": 467,
   "id": "879a0831-40e2-42bd-b4b6-21eee04d72a9",
   "metadata": {},
   "outputs": [],
   "source": [
    "# Reload the template\n",
    "f = open(\"input\")\n",
    "template = next(f).strip()"
   ]
  },
  {
   "cell_type": "code",
   "execution_count": 468,
   "id": "86563072-1738-45e5-8a24-c559fda1db9a",
   "metadata": {},
   "outputs": [],
   "source": [
    "start_to_end = {}\n",
    "\n",
    "# A recursive solution with momoization so it doesn't take forever\n",
    "def recursion(input_pair, depth=40, left = False):\n",
    "    # If this value has been calculated before then return the momoized answer\n",
    "    if (input_pair, depth) in start_to_end:\n",
    "        return start_to_end[(input_pair, depth)]\n",
    "\n",
    "    # If we are at the final depth, then count the two letters that we have seen\n",
    "    if depth == 0:\n",
    "        total = {}\n",
    "        # Count the first letter\n",
    "        total[input_pair[0]] = 1\n",
    "        \n",
    "        # Count the second letter (it might be the same)\n",
    "        if input_pair[1] in total:\n",
    "            total[input_pair[1]] += 1\n",
    "        else:\n",
    "            total[input_pair[1]] = 1\n",
    "\n",
    "        return total\n",
    "\n",
    "    # the middle character is what is inserted in between the pair inputted into this recursion\n",
    "    middle = pairs[input_pair]\n",
    "    # Count the left recursion and the right recursion like (a,b) and (b,c) or something\n",
    "    left = recursion(input_pair[0] + middle, depth - 1, True) \n",
    "    right = recursion(middle + input_pair[1], depth - 1)\n",
    "    \n",
    "    # Add the letters seen in both\n",
    "    total = {}\n",
    "    for key in list(left.keys()) + list(right.keys()):\n",
    "        total[key] = (left[key] if key in left else 0) + (right[key] if key in right else 0)\n",
    "    \n",
    "    # Remove the middle character because it would have been counted twice\n",
    "    total[middle] -= 1\n",
    "    \n",
    "    # Memoize this solution for the future\n",
    "    start_to_end[(input_pair, depth)] = total\n",
    "    \n",
    "    return total\n",
    "\n",
    "    "
   ]
  },
  {
   "cell_type": "code",
   "execution_count": 469,
   "id": "f4c571ac-62ea-4bba-b821-dc852c0b2e0f",
   "metadata": {},
   "outputs": [],
   "source": [
    "# List of letter counts for each pair\n",
    "outputs = []\n",
    "# Perform the recursion on each pair of letters in the input\n",
    "for x in range(0, len(template) - 1):\n",
    "    this_one = recursion(template[x] + template[x + 1], depth=40)\n",
    "    # Subtract one of the right letters from the count because it is going to be counted in the next recursion pair\n",
    "    this_one[template[x + 1]] -= 1\n",
    "    outputs.append(this_one)\n",
    "\n",
    "# Except the last recursion pair's final letter, that still needs to be counted\n",
    "outputs[-1][template[-1]] += 1"
   ]
  },
  {
   "cell_type": "code",
   "execution_count": 470,
   "id": "9c225e58-655f-4b1e-9790-a06f036084fc",
   "metadata": {
    "tags": []
   },
   "outputs": [],
   "source": [
    "# Add up each pair's letter counts\n",
    "counts = {}\n",
    "for output in outputs:\n",
    "    for letter in output.keys():\n",
    "        if letter in counts:\n",
    "            counts[letter] += output[letter] \n",
    "        else:\n",
    "            counts[letter] = output[letter]"
   ]
  },
  {
   "cell_type": "code",
   "execution_count": 471,
   "id": "59eaa714-c569-4c9f-8b5e-d4589791a2d4",
   "metadata": {},
   "outputs": [
    {
     "data": {
      "text/plain": [
       "(('N', 5224941105516), ('K', 922265575827))"
      ]
     },
     "execution_count": 471,
     "metadata": {},
     "output_type": "execute_result"
    }
   ],
   "source": [
    "# Get the minimum and maximum of the letter counts\n",
    "max(counts.items(), key=lambda a: a[1]), min(counts.items(), key=lambda a: a[1])"
   ]
  },
  {
   "cell_type": "code",
   "execution_count": 472,
   "id": "91a7ba50-3dda-49a7-9c6c-8837440c7e60",
   "metadata": {},
   "outputs": [
    {
     "data": {
      "text/plain": [
       "4302675529689"
      ]
     },
     "execution_count": 472,
     "metadata": {},
     "output_type": "execute_result"
    }
   ],
   "source": [
    "# Final answer for problem 2\n",
    "5224941105516 - 922265575827"
   ]
  }
 ],
 "metadata": {
  "kernelspec": {
   "display_name": "Python 3 (ipykernel)",
   "language": "python",
   "name": "python3"
  },
  "language_info": {
   "codemirror_mode": {
    "name": "ipython",
    "version": 3
   },
   "file_extension": ".py",
   "mimetype": "text/x-python",
   "name": "python",
   "nbconvert_exporter": "python",
   "pygments_lexer": "ipython3",
   "version": "3.8.10"
  }
 },
 "nbformat": 4,
 "nbformat_minor": 5
}
