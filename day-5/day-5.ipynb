{
 "cells": [
  {
   "cell_type": "code",
   "execution_count": 4,
   "id": "b83277e2-9aea-4557-b1a4-f288bf6ffd1e",
   "metadata": {},
   "outputs": [],
   "source": [
    "f = open(\"input\")\n",
    "lines = [line.split(\"->\") for line in f]\n",
    "lines = [(list(map(int, line[0].split(\",\"))), list(map(int, line[1].split(\",\")))) for line in lines]\n",
    "\n",
    "# Naming conventions\n",
    "# line[0] is the first point and line[1] is the second\n",
    "# line[i][0] is the x coord and line[i][1] is the y coord"
   ]
  },
  {
   "cell_type": "code",
   "execution_count": 6,
   "id": "11802b69-58e9-4a34-b05c-bc332811b260",
   "metadata": {
    "tags": []
   },
   "outputs": [],
   "source": [
    "# Create a map for the entire sea floor\n",
    "sea_map = [[0 for a in range(0, 1000)]for b in range(0, 1000)]\n",
    "\n",
    "# Add each line to the sea floor\n",
    "for line in lines:\n",
    "    if line[0][0] == line[1][0]:\n",
    "        # Vertical\n",
    "        x = line[0][0]\n",
    "        # always start with the left most y value\n",
    "        start = min(line[0][1], line[1][1])\n",
    "        end = max(line[0][1], line[1][1])\n",
    "        for y in range(start, end + 1):\n",
    "            sea_map[x][y] += 1\n",
    "    elif line[0][1] == line[1][1]:\n",
    "        # Horizontal\n",
    "        y = line[0][1]\n",
    "        \n",
    "        start = min(line[0][0], line[1][0])\n",
    "        end = max(line[0][0], line[1][0])\n",
    "        for x in range(start, end + 1):\n",
    "            sea_map[x][y] += 1\n",
    "    else:\n",
    "        # Diagonal comment this branch out for answer 1 \n",
    "        \n",
    "        # Start is the upper point and end is the one below\n",
    "        start, end = (line[0], line[1]) if line[0][1] < line[1][1] else (line[1], line[0])\n",
    "        \n",
    "        if start[0] < end[0]:\n",
    "            # Left to right, down\n",
    "            for i in range(0, end[0] - start[0] + 1):\n",
    "                sea_map[start[0] + i][start[1] + i] += 1\n",
    "        else:\n",
    "            \n",
    "            # Right to left, down\n",
    "            for i in range(0, start[0] - end[0] + 1):\n",
    "                sea_map[start[0] - i][start[1] + i] += 1"
   ]
  },
  {
   "cell_type": "code",
   "execution_count": 7,
   "id": "4f23026b-f625-45d0-9568-adb5278e3c08",
   "metadata": {
    "tags": []
   },
   "outputs": [],
   "source": [
    "total = 0\n",
    "for x in sea_map:\n",
    "    for y in x:\n",
    "        # Count all points greater that are at least 2\n",
    "        if y >= 2:\n",
    "            total += 1"
   ]
  },
  {
   "cell_type": "code",
   "execution_count": 8,
   "id": "91b6d083-1a44-4df2-a32b-8df0075eb7ab",
   "metadata": {},
   "outputs": [
    {
     "name": "stdout",
     "output_type": "stream",
     "text": [
      "19349\n"
     ]
    }
   ],
   "source": [
    "# Print out answer 2. Comment out diagonal lines to get answer 1\n",
    "print(total)"
   ]
  },
  {
   "cell_type": "code",
   "execution_count": null,
   "id": "8b6d9071-0de2-4a8d-8ece-4575e16f678c",
   "metadata": {},
   "outputs": [],
   "source": []
  }
 ],
 "metadata": {
  "kernelspec": {
   "display_name": "Python 3 (ipykernel)",
   "language": "python",
   "name": "python3"
  },
  "language_info": {
   "codemirror_mode": {
    "name": "ipython",
    "version": 3
   },
   "file_extension": ".py",
   "mimetype": "text/x-python",
   "name": "python",
   "nbconvert_exporter": "python",
   "pygments_lexer": "ipython3",
   "version": "3.8.10"
  }
 },
 "nbformat": 4,
 "nbformat_minor": 5
}
